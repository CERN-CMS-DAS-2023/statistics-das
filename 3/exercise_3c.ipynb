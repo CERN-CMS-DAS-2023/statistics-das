{
 "cells": [
  {
   "cell_type": "code",
   "execution_count": null,
   "metadata": {},
   "outputs": [],
   "source": [
    "%%html\n",
    "<!-- Don't wrap output -->\n",
    "<style>\n",
    "div.output_area pre {\n",
    "    white-space: pre;\n",
    "}\n",
    "</style>"
   ]
  },
  {
   "cell_type": "code",
   "execution_count": null,
   "metadata": {},
   "outputs": [],
   "source": [
    "%%writefile realistic-counting-experiment.txt\n",
    "\n",
    "# Simple counting experiment, with one signal and a few background processes \n",
    "# Simplified version of the 35/pb H->WW analysis for mH = 160 GeV\n",
    "imax 1  number of channels\n",
    "jmax 3  number of backgrounds\n",
    "kmax 5  number of nuisance parameters (sources of systematical uncertainties)\n",
    "------------\n",
    "shapes * * FAKE\n",
    "------------\n",
    "# we have just one channel, in which we observe 0 events\n",
    "bin bin1\n",
    "observation 0\n",
    "------------\n",
    "# now we list the expected events for signal and all backgrounds in that bin\n",
    "# the second 'process' line must have a positive number for backgrounds, and 0 for signal\n",
    "# then we list the independent sources of uncertainties, and give their effect (syst. error)\n",
    "# on each process and bin\n",
    "bin             bin1 bin1  bin1  bin1\n",
    "process         ggH  qqWW  ggWW  others\n",
    "process          0     1     2     3\n",
    "rate           1.47  0.63  0.06  0.22\n",
    "------------\n",
    "lumi    lnN    1.11    -   1.11    -    lumi affects both signal and gg->WW (mc-driven). lnN = lognormal\n",
    "xs_ggH  lnN    1.16    -     -     -    gg->H cross section + signal efficiency + other minor ones.\n",
    "WW_norm gmN 4    -   0.16    -     -    WW estimate of 0.64 comes from sidebands: 4 events in sideband times 0.16 (=> ~50% statistical uncertainty)\n",
    "xs_ggWW lnN      -     -   1.50    -    50% uncertainty on gg->WW cross section\n",
    "bg_others lnN    -     -     -   1.30   30% uncertainty on the rest of the backgrounds"
   ]
  },
  {
   "cell_type": "code",
   "execution_count": null,
   "metadata": {},
   "outputs": [],
   "source": [
    "%%bash\n",
    "combine -M MultiDimFit -t 10 realistic-counting-experiment.txt"
   ]
  },
  {
   "cell_type": "code",
   "execution_count": null,
   "metadata": {},
   "outputs": [],
   "source": []
  }
 ],
 "metadata": {
  "kernelspec": {
   "display_name": "Python 3 (ipykernel)",
   "language": "python",
   "name": "python3"
  },
  "language_info": {
   "codemirror_mode": {
    "name": "ipython",
    "version": 3
   },
   "file_extension": ".py",
   "mimetype": "text/x-python",
   "name": "python",
   "nbconvert_exporter": "python",
   "pygments_lexer": "ipython3",
   "version": "3.8.0"
  }
 },
 "nbformat": 4,
 "nbformat_minor": 2
}

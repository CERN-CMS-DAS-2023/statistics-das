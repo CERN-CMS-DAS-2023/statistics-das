{
 "cells": [
  {
   "cell_type": "code",
   "execution_count": 5,
   "metadata": {},
   "outputs": [
    {
     "name": "stdout",
     "output_type": "stream",
     "text": [
      "# Simple counting experiment, with one signal and one background\n",
      "imax 1  number of channels\n",
      "jmax 1  number of backgrounds\n",
      "kmax 0  number of nuisance parameters (sources of systematic uncertainty)\n",
      "------------\n",
      "# we have just one channel, in which we observe 0 events\n",
      "bin bin1\n",
      "observation 0\n",
      "------------\n",
      "# now we list the expected events for signal and all backgrounds in that bin\n",
      "# the second 'process' line must have a positive number for backgrounds, and 0 for signal.\n",
      "# the line starting with 'rate' gives the expected yield for each process.\n",
      "# Then (after the '-----'-line), we list the independent sources of uncertainties, and give their effect (syst. error)\n",
      "# on each process and bin, in this case none.\n",
      "bin              bin1     bin1 \n",
      "process         sig   bkg\n",
      "process          0     1 \n",
      "rate           1.00  0.000001\n",
      "------------ "
     ]
    }
   ],
   "source": [
    "%%bash\n",
    "cat counting_card.txt"
   ]
  },
  {
   "cell_type": "code",
   "execution_count": 6,
   "metadata": {},
   "outputs": [
    {
     "name": "stdout",
     "output_type": "stream",
     "text": [
      " <<< Combine >>> \n",
      " WARNING --  From combine v7, method Asymptotic has been renamed to AsymptoticLimits\n",
      ">>> including systematics\n",
      ">>> method used is Asymptotic\n",
      ">>> random number generator seed is 123456\n",
      "The model has no constrained nuisance parameters. Please run the limit tool with no systematics (option -S 0).\n",
      "To make things easier, I will assume you have done it.\n",
      "Computing results starting from observation (a-posteriori)\n",
      "\n",
      " -- AsymptoticLimits ( CLs ) --\n",
      "Observed Limit: r < 1.9233\n",
      "Expected  2.5%: r < 0.5630\n",
      "Expected 16.0%: r < 0.9983\n",
      "Expected 50.0%: r < 1.9219\n",
      "Expected 84.0%: r < 3.7145\n",
      "Expected 97.5%: r < 5.8275\n",
      "\n",
      "Done in 0.00 min (cpu), 0.00 min (real)\n"
     ]
    }
   ],
   "source": [
    "%%bash\n",
    "combine -M Asymptotic counting_card.txt"
   ]
  },
  {
   "cell_type": "code",
   "execution_count": null,
   "metadata": {},
   "outputs": [],
   "source": []
  }
 ],
 "metadata": {
  "kernelspec": {
   "display_name": "statistics-das",
   "language": "python",
   "name": "statistics-das"
  },
  "language_info": {
   "codemirror_mode": {
    "name": "ipython",
    "version": 2
   },
   "file_extension": ".py",
   "mimetype": "text/x-python",
   "name": "python",
   "nbconvert_exporter": "python",
   "pygments_lexer": "ipython2",
   "version": "2.7.14+"
  }
 },
 "nbformat": 4,
 "nbformat_minor": 2
}

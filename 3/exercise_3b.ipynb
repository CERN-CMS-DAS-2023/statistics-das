{
 "cells": [
  {
   "cell_type": "code",
   "execution_count": null,
   "metadata": {},
   "outputs": [],
   "source": [
    "%%html\n",
    "<!-- Don't wrap output -->\n",
    "<style>\n",
    "div.output_area pre {\n",
    "    white-space: pre;\n",
    "}\n",
    "</style>"
   ]
  },
  {
   "cell_type": "code",
   "execution_count": null,
   "metadata": {},
   "outputs": [],
   "source": [
    "%%writefile counting_card.txt\n",
    "\n",
    "# Simple counting experiment, with one signal and one background\n",
    "imax 1  number of channels\n",
    "jmax 1  number of backgrounds\n",
    "kmax 0  number of nuisance parameters (sources of systematic uncertainty)\n",
    "------------\n",
    "# we have just one channel, in which we observe 0 events\n",
    "bin bin1\n",
    "observation 0\n",
    "------------\n",
    "# now we list the expected events for signal and all backgrounds in that bin\n",
    "# the second 'process' line must have a positive number for backgrounds, and 0 for signal.\n",
    "# the line starting with 'rate' gives the expected yield for each process.\n",
    "# Then (after the '-----'-line), we list the independent sources of uncertainties, and give their effect (syst. error)\n",
    "# on each process and bin, in this case none.\n",
    "bin              bin1     bin1 \n",
    "process         sig   bkg\n",
    "process          0     1 \n",
    "rate           1.00  0.000001\n",
    "------------ "
   ]
  },
  {
   "cell_type": "code",
   "execution_count": null,
   "metadata": {},
   "outputs": [],
   "source": [
    "%%bash\n",
    "combine -M AsymptoticLimits counting_card.txt"
   ]
  },
  {
   "cell_type": "code",
   "execution_count": null,
   "metadata": {},
   "outputs": [],
   "source": []
  }
 ],
 "metadata": {
  "kernelspec": {
   "display_name": "Python 3 (ipykernel)",
   "language": "python",
   "name": "python3"
  },
  "language_info": {
   "codemirror_mode": {
    "name": "ipython",
    "version": 3
   },
   "file_extension": ".py",
   "mimetype": "text/x-python",
   "name": "python",
   "nbconvert_exporter": "python",
   "pygments_lexer": "ipython3",
   "version": "3.8.0"
  }
 },
 "nbformat": 4,
 "nbformat_minor": 2
}

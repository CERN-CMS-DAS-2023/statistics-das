{
 "cells": [
  {
   "cell_type": "code",
   "execution_count": null,
   "metadata": {},
   "outputs": [],
   "source": [
    "%%bash\n",
    "combine -h"
   ]
  },
  {
   "cell_type": "code",
   "execution_count": 9,
   "metadata": {},
   "outputs": [
    {
     "name": "stdout",
     "output_type": "stream",
     "text": [
      "# derived from Table 4 (page 58) of http://arxiv.org/pdf/1312.5353v3\n",
      "\n",
      "imax     3   number of bins\n",
      "jmax     2   number of samples minus one\n",
      "kmax     *   number of nuisance parameters\n",
      "--------------------------------------------------------\n",
      "bin                             bin4e       bin2e2m         bin4m\n",
      "observation                      4         13          8\n",
      "--------------------------------------------------------\n",
      "bin                             bin4e       bin2e2m         bin4m         bin4e       bin2e2m         bin4m         bin4e       bin2e2m         bin4m\n",
      "process                       h125       h125       h125         zz\t    zz\t       zz\t  zx\t     zx\t\tzx\n",
      "process                          0          0          0          1          1          1          2          2          2\n",
      "rate                           3.0        7.9        6.4\t1.1        3.2\t      2.5        0.8        1.3        0.4\n",
      "-------------------------------------------------------------------------------\n",
      "h125_rate_4e    lnN            1.13\t    -\t       -          -          -          -          -          -          -\n",
      "h125_rate_2e2m  lnN               -       1.13         -          -          -          -          -          -          -\n",
      "h125_rate_4m    lnN               -          -      1.11          -          -          -          -          -          -\n",
      "zz_rate_4e      lnN               -\t     - \t       -       1.09          -          -          -          -          -\n",
      "zz_rate_2e2m    lnN               -          -         -          -       1.06          -          -          -          -\n",
      "zz_rate_4m      lnN               -          -         -          -          -       1.08          -          -          -\n",
      "zx_rate_4e      lnN               -\t     - \t       -          -          -          -       1.25          -          -\n",
      "zx_rate_2e2m    lnN               -          -         -          -          -          -          -       1.23          -\n",
      "zx_rate_4m      lnN               -          -         -          -          -          -          -          -       1.15"
     ]
    }
   ],
   "source": [
    "%%bash\n",
    "cat hzz.txt"
   ]
  },
  {
   "cell_type": "code",
   "execution_count": 10,
   "metadata": {},
   "outputs": [
    {
     "name": "stdout",
     "output_type": "stream",
     "text": [
      " <<< Combine >>> \n",
      ">>> including systematics\n",
      ">>> method used is AsymptoticLimits\n",
      ">>> random number generator seed is 123456\n",
      "Computing results starting from observation (a-posteriori)\n",
      "\n",
      " -- AsymptoticLimits ( CLs ) --\n",
      "Observed Limit: r < 1.4569\n",
      "Expected  2.5%: r < 0.2134\n",
      "Expected 16.0%: r < 0.2960\n",
      "Expected 50.0%: r < 0.4336\n",
      "Expected 84.0%: r < 0.6496\n",
      "Expected 97.5%: r < 0.9449\n",
      "\n",
      "Done in 0.00 min (cpu), 0.01 min (real)\n"
     ]
    }
   ],
   "source": [
    "%%bash\n",
    "combine -M AsymptoticLimits hzz.txt"
   ]
  },
  {
   "cell_type": "code",
   "execution_count": 13,
   "metadata": {},
   "outputs": [
    {
     "name": "stdout",
     "output_type": "stream",
     "text": [
      " <<< Combine >>> \n",
      ">>> including systematics\n",
      ">>> method used is FitDiagnostics\n",
      ">>> random number generator seed is 123456\n",
      "Computing results starting from observation (a-posteriori)\n",
      "\n",
      " --- FitDiagnostics ---\n",
      "Best fit r: 0.903968  -0.273261/+0.316833  (68% CL)\n",
      "Done in 0.00 min (cpu), 0.00 min (real)\n"
     ]
    },
    {
     "name": "stderr",
     "output_type": "stream",
     "text": [
      "Missing background ModelConfig 'ModelConfig_bonly' in workspace 'w' in file roostats-U1D0F7.root\n",
      "Will make one from the signal ModelConfig 'ModelConfig' setting signal strenth 'r' to zero\n",
      "Warning in <TBranch::TBranch>: Extra characters after type tag 'Int_t' for branch 'fit_status'; must be one character.\n",
      "Warning in <TBranch::TBranch>: Extra characters after type tag 'Int_t' for branch 'fit_status'; must be one character.\n",
      "Warning in <TBranch::TBranch>: Extra characters after type tag 'Double_t' for branch 'r'; must be one character.\n",
      "Warning in <TBranch::TBranch>: Extra characters after type tag 'Double_t' for branch 'r'; must be one character.\n",
      "Warning in <TBranch::TBranch>: Extra characters after type tag 'Double_t' for branch 'rErr'; must be one character.\n",
      "Warning in <TBranch::TBranch>: Extra characters after type tag 'Double_t' for branch 'rErr'; must be one character.\n",
      "Warning in <TBranch::TBranch>: Extra characters after type tag 'Double_t' for branch 'rLoErr'; must be one character.\n",
      "Warning in <TBranch::TBranch>: Extra characters after type tag 'Double_t' for branch 'rLoErr'; must be one character.\n",
      "Warning in <TBranch::TBranch>: Extra characters after type tag 'Double_t' for branch 'rHiErr'; must be one character.\n",
      "Warning in <TBranch::TBranch>: Extra characters after type tag 'Double_t' for branch 'rHiErr'; must be one character.\n",
      "Warning in <TBranch::TBranch>: Extra characters after type tag 'Int_t' for branch 'numbadnll'; must be one character.\n",
      "Warning in <TBranch::TBranch>: Extra characters after type tag 'Int_t' for branch 'numbadnll'; must be one character.\n",
      "Warning in <TBranch::TBranch>: Extra characters after type tag 'Double_t' for branch 'nll_min'; must be one character.\n",
      "Warning in <TBranch::TBranch>: Extra characters after type tag 'Double_t' for branch 'nll_min'; must be one character.\n",
      "Warning in <TBranch::TBranch>: Extra characters after type tag 'Double_t' for branch 'nll_nll0'; must be one character.\n",
      "Warning in <TBranch::TBranch>: Extra characters after type tag 'Double_t' for branch 'h125_rate_4e_In'; must be one character.\n",
      "Warning in <TBranch::TBranch>: Extra characters after type tag 'Double_t' for branch 'h125_rate_4e_In'; must be one character.\n",
      "Warning in <TBranch::TBranch>: Extra characters after type tag 'Double_t' for branch 'h125_rate_4e_In'; must be one character.\n",
      "Warning in <TBranch::TBranch>: Extra characters after type tag 'Double_t' for branch 'h125_rate_2e2m_In'; must be one character.\n",
      "Warning in <TBranch::TBranch>: Extra characters after type tag 'Double_t' for branch 'h125_rate_2e2m_In'; must be one character.\n",
      "Warning in <TBranch::TBranch>: Extra characters after type tag 'Double_t' for branch 'h125_rate_2e2m_In'; must be one character.\n",
      "Warning in <TBranch::TBranch>: Extra characters after type tag 'Double_t' for branch 'h125_rate_4m_In'; must be one character.\n",
      "Warning in <TBranch::TBranch>: Extra characters after type tag 'Double_t' for branch 'h125_rate_4m_In'; must be one character.\n",
      "Warning in <TBranch::TBranch>: Extra characters after type tag 'Double_t' for branch 'h125_rate_4m_In'; must be one character.\n",
      "Warning in <TBranch::TBranch>: Extra characters after type tag 'Double_t' for branch 'zz_rate_4e_In'; must be one character.\n",
      "Warning in <TBranch::TBranch>: Extra characters after type tag 'Double_t' for branch 'zz_rate_4e_In'; must be one character.\n",
      "Warning in <TBranch::TBranch>: Extra characters after type tag 'Double_t' for branch 'zz_rate_4e_In'; must be one character.\n",
      "Warning in <TBranch::TBranch>: Extra characters after type tag 'Double_t' for branch 'zz_rate_2e2m_In'; must be one character.\n",
      "Warning in <TBranch::TBranch>: Extra characters after type tag 'Double_t' for branch 'zz_rate_2e2m_In'; must be one character.\n",
      "Warning in <TBranch::TBranch>: Extra characters after type tag 'Double_t' for branch 'zz_rate_2e2m_In'; must be one character.\n",
      "Warning in <TBranch::TBranch>: Extra characters after type tag 'Double_t' for branch 'zz_rate_4m_In'; must be one character.\n",
      "Warning in <TBranch::TBranch>: Extra characters after type tag 'Double_t' for branch 'zz_rate_4m_In'; must be one character.\n",
      "Warning in <TBranch::TBranch>: Extra characters after type tag 'Double_t' for branch 'zz_rate_4m_In'; must be one character.\n",
      "Warning in <TBranch::TBranch>: Extra characters after type tag 'Double_t' for branch 'zx_rate_4e_In'; must be one character.\n",
      "Warning in <TBranch::TBranch>: Extra characters after type tag 'Double_t' for branch 'zx_rate_4e_In'; must be one character.\n",
      "Warning in <TBranch::TBranch>: Extra characters after type tag 'Double_t' for branch 'zx_rate_4e_In'; must be one character.\n",
      "Warning in <TBranch::TBranch>: Extra characters after type tag 'Double_t' for branch 'zx_rate_2e2m_In'; must be one character.\n",
      "Warning in <TBranch::TBranch>: Extra characters after type tag 'Double_t' for branch 'zx_rate_2e2m_In'; must be one character.\n",
      "Warning in <TBranch::TBranch>: Extra characters after type tag 'Double_t' for branch 'zx_rate_2e2m_In'; must be one character.\n",
      "Warning in <TBranch::TBranch>: Extra characters after type tag 'Double_t' for branch 'zx_rate_4m_In'; must be one character.\n",
      "Warning in <TBranch::TBranch>: Extra characters after type tag 'Double_t' for branch 'zx_rate_4m_In'; must be one character.\n",
      "Warning in <TBranch::TBranch>: Extra characters after type tag 'Double_t' for branch 'zx_rate_4m_In'; must be one character.\n",
      "Warning in <TBranch::TBranch>: Extra characters after type tag 'Double_t' for branch 'h125_rate_4e'; must be one character.\n",
      "Warning in <TBranch::TBranch>: Extra characters after type tag 'Double_t' for branch 'h125_rate_4e'; must be one character.\n",
      "Warning in <TBranch::TBranch>: Extra characters after type tag 'Double_t' for branch 'h125_rate_4e'; must be one character.\n",
      "Warning in <TBranch::TBranch>: Extra characters after type tag 'Double_t' for branch 'h125_rate_2e2m'; must be one character.\n",
      "Warning in <TBranch::TBranch>: Extra characters after type tag 'Double_t' for branch 'h125_rate_2e2m'; must be one character.\n",
      "Warning in <TBranch::TBranch>: Extra characters after type tag 'Double_t' for branch 'h125_rate_2e2m'; must be one character.\n",
      "Warning in <TBranch::TBranch>: Extra characters after type tag 'Double_t' for branch 'h125_rate_4m'; must be one character.\n",
      "Warning in <TBranch::TBranch>: Extra characters after type tag 'Double_t' for branch 'h125_rate_4m'; must be one character.\n",
      "Warning in <TBranch::TBranch>: Extra characters after type tag 'Double_t' for branch 'h125_rate_4m'; must be one character.\n",
      "Warning in <TBranch::TBranch>: Extra characters after type tag 'Double_t' for branch 'zz_rate_4e'; must be one character.\n",
      "Warning in <TBranch::TBranch>: Extra characters after type tag 'Double_t' for branch 'zz_rate_4e'; must be one character.\n",
      "Warning in <TBranch::TBranch>: Extra characters after type tag 'Double_t' for branch 'zz_rate_4e'; must be one character.\n",
      "Warning in <TBranch::TBranch>: Extra characters after type tag 'Double_t' for branch 'zz_rate_2e2m'; must be one character.\n",
      "Warning in <TBranch::TBranch>: Extra characters after type tag 'Double_t' for branch 'zz_rate_2e2m'; must be one character.\n",
      "Warning in <TBranch::TBranch>: Extra characters after type tag 'Double_t' for branch 'zz_rate_2e2m'; must be one character.\n",
      "Warning in <TBranch::TBranch>: Extra characters after type tag 'Double_t' for branch 'zz_rate_4m'; must be one character.\n",
      "Warning in <TBranch::TBranch>: Extra characters after type tag 'Double_t' for branch 'zz_rate_4m'; must be one character.\n",
      "Warning in <TBranch::TBranch>: Extra characters after type tag 'Double_t' for branch 'zz_rate_4m'; must be one character.\n",
      "Warning in <TBranch::TBranch>: Extra characters after type tag 'Double_t' for branch 'zx_rate_4e'; must be one character.\n",
      "Warning in <TBranch::TBranch>: Extra characters after type tag 'Double_t' for branch 'zx_rate_4e'; must be one character.\n",
      "Warning in <TBranch::TBranch>: Extra characters after type tag 'Double_t' for branch 'zx_rate_4e'; must be one character.\n",
      "Warning in <TBranch::TBranch>: Extra characters after type tag 'Double_t' for branch 'zx_rate_2e2m'; must be one character.\n",
      "Warning in <TBranch::TBranch>: Extra characters after type tag 'Double_t' for branch 'zx_rate_2e2m'; must be one character.\n",
      "Warning in <TBranch::TBranch>: Extra characters after type tag 'Double_t' for branch 'zx_rate_2e2m'; must be one character.\n",
      "Warning in <TBranch::TBranch>: Extra characters after type tag 'Double_t' for branch 'zx_rate_4m'; must be one character.\n",
      "Warning in <TBranch::TBranch>: Extra characters after type tag 'Double_t' for branch 'zx_rate_4m'; must be one character.\n",
      "Warning in <TBranch::TBranch>: Extra characters after type tag 'Double_t' for branch 'zx_rate_4m'; must be one character.\n"
     ]
    }
   ],
   "source": [
    "%%bash\n",
    "combine -M FitDiagnostics hzz.txt --forceRecreateNLL"
   ]
  },
  {
   "cell_type": "code",
   "execution_count": 14,
   "metadata": {},
   "outputs": [
    {
     "name": "stdout",
     "output_type": "stream",
     "text": [
      " <<< Combine >>> \n",
      ">>> including systematics\n",
      ">>> method used is Significance\n",
      ">>> random number generator seed is 123456\n",
      "Computing results starting from observation (a-posteriori)\n",
      "\n",
      " -- Significance -- \n",
      "Significance: 4.18788\n",
      "Done in 0.00 min (cpu), 0.00 min (real)\n"
     ]
    }
   ],
   "source": [
    "%%bash\n",
    "combine -M Significance --signif hzz.txt"
   ]
  },
  {
   "cell_type": "code",
   "execution_count": 15,
   "metadata": {},
   "outputs": [
    {
     "name": "stdout",
     "output_type": "stream",
     "text": [
      " <<< Combine >>> \n",
      ">>> including systematics\n",
      ">>> method used is Significance\n",
      ">>> random number generator seed is 123456\n",
      "Computing results starting from expected outcome (a-priori)\n",
      "\n",
      " -- Significance -- \n",
      "Significance: 4.56831\n",
      "Done in 0.00 min (cpu), 0.00 min (real)\n"
     ]
    }
   ],
   "source": [
    "%%bash\n",
    "combine -M Significance hzz.txt -t -1 --expectSignal=1"
   ]
  },
  {
   "cell_type": "code",
   "execution_count": null,
   "metadata": {},
   "outputs": [],
   "source": []
  }
 ],
 "metadata": {
  "kernelspec": {
   "display_name": "statistics-das",
   "language": "python",
   "name": "statistics-das"
  },
  "language_info": {
   "codemirror_mode": {
    "name": "ipython",
    "version": 2
   },
   "file_extension": ".py",
   "mimetype": "text/x-python",
   "name": "python",
   "nbconvert_exporter": "python",
   "pygments_lexer": "ipython2",
   "version": "2.7.14+"
  }
 },
 "nbformat": 4,
 "nbformat_minor": 2
}
